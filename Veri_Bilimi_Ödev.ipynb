{
 "cells": [
  {
   "cell_type": "code",
   "execution_count": 37,
   "metadata": {},
   "outputs": [],
   "source": [
    "class info():\n",
    "   \n",
    "    def __init__(self):\n",
    "        \n",
    "        import pandas as pd\n",
    "        import numpy as np\n",
    "        from pandas import Series , DataFrame\n",
    "    \n",
    "\n",
    "        data=pd.read_csv('Titanic.csv')\n",
    "        data.info()\n",
    "        print(data.head())\n",
    "        print(data.describe())\n",
    "\n",
    "class plot():\n",
    "    def __init__(self):\n",
    "        \n",
    "        import matplotlib.pyplot as plt\n",
    "        import seaborn as sns\n",
    "        import pandas as pd\n",
    "        from pandas import Series , DataFrame\n",
    "        data=pd.read_csv('Titanic.csv')\n",
    "        sns.factorplot(\"PClass\",\"Survived\",hue=\"Sex\", data=data) #Her farklı veri için faktörler değiştirilir*\n",
    "        sns.boxplot(data[\"Age\"])\n",
    "        \n",
    "        \n",
    "        \n",
    "        \n",
    "        \n",
    "        "
   ]
  },
  {
   "cell_type": "code",
   "execution_count": 25,
   "metadata": {},
   "outputs": [
    {
     "name": "stdout",
     "output_type": "stream",
     "text": [
      "<class 'pandas.core.frame.DataFrame'>\n",
      "RangeIndex: 1313 entries, 0 to 1312\n",
      "Data columns (total 5 columns):\n",
      "Name        1313 non-null object\n",
      "PClass      1312 non-null object\n",
      "Age         756 non-null float64\n",
      "Sex         1313 non-null object\n",
      "Survived    1313 non-null int64\n",
      "dtypes: float64(1), int64(1), object(3)\n",
      "memory usage: 51.4+ KB\n",
      "                                            Name PClass    Age     Sex  \\\n",
      "0                   Allen, Miss Elisabeth Walton    1st  29.00  female   \n",
      "1                    Allison, Miss Helen Loraine    1st   2.00  female   \n",
      "2            Allison, Mr Hudson Joshua Creighton    1st  30.00    male   \n",
      "3  Allison, Mrs Hudson JC (Bessie Waldo Daniels)    1st  25.00  female   \n",
      "4                  Allison, Master Hudson Trevor    1st   0.92    male   \n",
      "\n",
      "   Survived  \n",
      "0         1  \n",
      "1         0  \n",
      "2         0  \n",
      "3         0  \n",
      "4         1  \n",
      "              Age     Survived\n",
      "count  756.000000  1313.000000\n",
      "mean    30.397989     0.342727\n",
      "std     14.259049     0.474802\n",
      "min      0.170000     0.000000\n",
      "25%     21.000000     0.000000\n",
      "50%     28.000000     0.000000\n",
      "75%     39.000000     1.000000\n",
      "max     71.000000     1.000000\n"
     ]
    },
    {
     "data": {
      "text/plain": [
       "<__main__.info at 0x2ac1e5881d0>"
      ]
     },
     "execution_count": 25,
     "metadata": {},
     "output_type": "execute_result"
    }
   ],
   "source": [
    "info()"
   ]
  },
  {
   "cell_type": "code",
   "execution_count": 38,
   "metadata": {},
   "outputs": [
    {
     "name": "stderr",
     "output_type": "stream",
     "text": [
      "C:\\Users\\karde\\Anaconda3\\lib\\site-packages\\seaborn\\categorical.py:3666: UserWarning: The `factorplot` function has been renamed to `catplot`. The original name will be removed in a future release. Please update your code. Note that the default `kind` in `factorplot` (`'point'`) has changed `'strip'` in `catplot`.\n",
      "  warnings.warn(msg)\n"
     ]
    },
    {
     "data": {
      "text/plain": [
       "<__main__.plot at 0x2ac20f89668>"
      ]
     },
     "execution_count": 38,
     "metadata": {},
     "output_type": "execute_result"
    },
    {
     "data": {
      "image/png": "[encoded data removed]",
      "text/plain": [
       "<Figure size 430.5x360 with 1 Axes>"
      ]
     },
     "metadata": {
      "needs_background": "light"
     },
     "output_type": "display_data"
    }
   ],
   "source": [
    "plot()"
   ]
  },
  {
   "cell_type": "code",
   "execution_count": null,
   "metadata": {},
   "outputs": [],
   "source": []
  }
 ],
 "metadata": {
  "kernelspec": {
   "display_name": "Python 3",
   "language": "python",
   "name": "python3"
  },
  "language_info": {
   "codemirror_mode": {
    "name": "ipython",
    "version": 3
   },
   "file_extension": ".py",
   "mimetype": "text/x-python",
   "name": "python",
   "nbconvert_exporter": "python",
   "pygments_lexer": "ipython3",
   "version": "3.7.3"
  }
 },
 "nbformat": 4,
 "nbformat_minor": 2
}
